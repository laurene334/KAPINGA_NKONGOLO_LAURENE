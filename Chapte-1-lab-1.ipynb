{
 "cells": [
  {
   "cell_type": "markdown",
   "id": "362ccbd5-a903-4244-bc6c-fad349c1bd02",
   "metadata": {},
   "source": [
    "# A. IMPORTATIONS DES LIBRAIRIS "
   ]
  },
  {
   "cell_type": "markdown",
   "id": "6ec80716-302c-4716-82c5-1f2f968652e2",
   "metadata": {},
   "source": [
    "---"
   ]
  },
  {
   "cell_type": "markdown",
   "id": "9e9f1a9c-59eb-46b0-b2b2-df3fd9128064",
   "metadata": {},
   "source": [
    "# importations de librairis"
   ]
  },
  {
   "cell_type": "code",
   "execution_count": 182,
   "id": "7ecf5f42-3167-47e0-adde-7da05e5be0e2",
   "metadata": {},
   "outputs": [],
   "source": [
    "import numpy as np"
   ]
  },
  {
   "cell_type": "markdown",
   "id": "3a9e63c1-dabb-448a-a33a-2d560bb2321c",
   "metadata": {},
   "source": [
    "# CREATION DES TABLEAUX "
   ]
  },
  {
   "cell_type": "markdown",
   "id": "8b7b6d22-a6b7-4f3a-a83e-11deffdad80a",
   "metadata": {},
   "source": [
    "## 1.1 tableau a 1D"
   ]
  },
  {
   "cell_type": "code",
   "execution_count": 183,
   "id": "00215640-2c98-496d-b716-f06d90b18b83",
   "metadata": {},
   "outputs": [],
   "source": [
    "# creations d'un tableau a 1D\n",
    "tab_1D = np.array([2,4,6,8,10,12,14])"
   ]
  },
  {
   "cell_type": "code",
   "execution_count": 184,
   "id": "c0b9da03-05ca-4b3f-9bcc-308e7aa03e8d",
   "metadata": {},
   "outputs": [
    {
     "data": {
      "text/plain": [
       "array([ 2,  4,  6,  8, 10, 12, 14])"
      ]
     },
     "execution_count": 184,
     "metadata": {},
     "output_type": "execute_result"
    }
   ],
   "source": [
    "tab_1D"
   ]
  },
  {
   "cell_type": "code",
   "execution_count": 185,
   "id": "c8690955-5cb0-4674-8f97-c756add63fd3",
   "metadata": {},
   "outputs": [
    {
     "name": "stdout",
     "output_type": "stream",
     "text": [
      "[ 2  4  6  8 10 12 14]\n"
     ]
    }
   ],
   "source": [
    "print(tab_1D)"
   ]
  },
  {
   "cell_type": "markdown",
   "id": "b03be017-8ae1-4fd6-842f-2d533d3d25f2",
   "metadata": {},
   "source": [
    "## 1.2 tableau a 2D"
   ]
  },
  {
   "cell_type": "code",
   "execution_count": 186,
   "id": "6269a686-f35b-40e1-aaa5-7cd1b3a18621",
   "metadata": {},
   "outputs": [],
   "source": [
    "# creation d'un tableau a 2D\n",
    "tab_2D = np.array([\n",
    "    [1,3,5,7,8],\n",
    "    [11,33,55,77,88]\n",
    "])"
   ]
  },
  {
   "cell_type": "code",
   "execution_count": 187,
   "id": "a912975d-bc56-4686-a30e-e1a754d32d73",
   "metadata": {},
   "outputs": [
    {
     "data": {
      "text/plain": [
       "array([[ 1,  3,  5,  7,  8],\n",
       "       [11, 33, 55, 77, 88]])"
      ]
     },
     "execution_count": 187,
     "metadata": {},
     "output_type": "execute_result"
    }
   ],
   "source": [
    "tab_2D"
   ]
  },
  {
   "cell_type": "code",
   "execution_count": 188,
   "id": "cb064020-d342-46e2-bc1a-44ab0cba2a7c",
   "metadata": {},
   "outputs": [
    {
     "name": "stdout",
     "output_type": "stream",
     "text": [
      "dimension du tableau (2, 5)\n",
      "type du tableau <class 'numpy.ndarray'>\n",
      "voici le Tableau: [[ 1  3  5  7  8]\n",
      " [11 33 55 77 88]]\n"
     ]
    }
   ],
   "source": [
    "print(\"dimension du tableau\",tab_2D.shape)\n",
    "print(\"type du tableau\", type(tab_2D))\n",
    "print(\"voici le Tableau:\", tab_2D)"
   ]
  },
  {
   "cell_type": "markdown",
   "id": "b361122b-2ded-4645-88ff-60d484a44d76",
   "metadata": {},
   "source": [
    "## 1.3 tableau a 3D"
   ]
  },
  {
   "cell_type": "code",
   "execution_count": 189,
   "id": "f8fcb95a-a84e-422c-bc05-93ff880cd94a",
   "metadata": {},
   "outputs": [],
   "source": [
    "# creation du tableau 3D\n",
    "tab_3D = np.array ([[\n",
    "    [9,7,5,3,1],\n",
    "    [22,55,89,63,31],\n",
    "    [94,75,59,23,81]\n",
    "]])"
   ]
  },
  {
   "cell_type": "code",
   "execution_count": 190,
   "id": "24352bee-b8a2-446a-b228-22281c229312",
   "metadata": {},
   "outputs": [
    {
     "name": "stdout",
     "output_type": "stream",
     "text": [
      "dimension du tableau (1, 3, 5)\n",
      "type du tableau: <class 'numpy.ndarray'>\n",
      "voici le tableau: [[[ 9  7  5  3  1]\n",
      "  [22 55 89 63 31]\n",
      "  [94 75 59 23 81]]]\n"
     ]
    }
   ],
   "source": [
    "print(\"dimension du tableau\",tab_3D.shape)\n",
    "print(\"type du tableau:\",type(tab_3D))\n",
    "print(\"voici le tableau:\", tab_3D)"
   ]
  },
  {
   "cell_type": "markdown",
   "id": "910380ab-d9af-434f-81e5-be192be8167f",
   "metadata": {},
   "source": [
    "## 1.5 tableau a 4D"
   ]
  },
  {
   "cell_type": "code",
   "execution_count": 191,
   "id": "dababfaa-ef2b-49bf-8a9f-9eff3452ecca",
   "metadata": {},
   "outputs": [],
   "source": [
    "#creation du tableau 4D\n",
    "tab_4D = np.array([[[\n",
    "    [9,7,5,3,1],\n",
    "    [23,66,75,33,81],\n",
    "    [91,67,15,83,41]\n",
    "]]])"
   ]
  },
  {
   "cell_type": "code",
   "execution_count": 192,
   "id": "93e43b0c-093e-429b-8f0b-0b9e112b6047",
   "metadata": {},
   "outputs": [
    {
     "name": "stdout",
     "output_type": "stream",
     "text": [
      "dimension du tableau (1, 1, 3, 5)\n",
      "type du tableau: <class 'numpy.ndarray'>\n",
      "voici le tableau: [[[[ 9  7  5  3  1]\n",
      "   [23 66 75 33 81]\n",
      "   [91 67 15 83 41]]]]\n"
     ]
    }
   ],
   "source": [
    "print(\"dimension du tableau\",tab_4D.shape)\n",
    "print(\"type du tableau:\",type(tab_4D))\n",
    "print(\"voici le tableau:\", tab_4D)"
   ]
  },
  {
   "cell_type": "markdown",
   "id": "577e16de-3a33-4cbd-9741-64e5fe8e70bf",
   "metadata": {},
   "source": [
    "# B OPERATIONS"
   ]
  },
  {
   "cell_type": "code",
   "execution_count": 193,
   "id": "c2f5cb61-d23c-42db-b9eb-67fa1c2218a5",
   "metadata": {},
   "outputs": [],
   "source": [
    "#creation d'un tableau a deux dimemsion\n",
    "a = np.array([\n",
    "    [2,4,6,8],\n",
    "    [25,45,65,85]\n",
    "])"
   ]
  },
  {
   "cell_type": "code",
   "execution_count": 194,
   "id": "8de596dd-ebe2-42a7-9f92-9a3f6d063bab",
   "metadata": {},
   "outputs": [],
   "source": [
    "b = np.array([\n",
    "    [20,40,60,80],\n",
    "    [250,450,650,850]\n",
    "])"
   ]
  },
  {
   "cell_type": "code",
   "execution_count": 195,
   "id": "a29062fe-97f0-409c-b2ed-aab2e3a875af",
   "metadata": {},
   "outputs": [
    {
     "name": "stdout",
     "output_type": "stream",
     "text": [
      "(2, 4)\n",
      "[[ 2  4  6  8]\n",
      " [25 45 65 85]]\n",
      "(2, 4)\n",
      "[[ 20  40  60  80]\n",
      " [250 450 650 850]]\n"
     ]
    }
   ],
   "source": [
    "print(a.shape)\n",
    "print(a)\n",
    "print(b.shape)\n",
    "print(b)"
   ]
  },
  {
   "cell_type": "markdown",
   "id": "c23d12cf-7f6a-4045-b2bf-cf5b6fe5a2d3",
   "metadata": {},
   "source": [
    "# C. MANIPULATION DES DONNEES"
   ]
  },
  {
   "cell_type": "code",
   "execution_count": 196,
   "id": "e362c24d-71fa-46c9-8bc7-118c79c34f96",
   "metadata": {},
   "outputs": [],
   "source": [
    "# creation d'un dictionnaire\n",
    "info_Etudiants = {\n",
    "    'Matricule':'20221235543',\n",
    "    'Nom': 'KASONGO',\n",
    "    'Prenom': 'David',\n",
    "    'Age':23,\n",
    "    'GPA':'A'\n",
    "}"
   ]
  },
  {
   "cell_type": "code",
   "execution_count": 197,
   "id": "bafcd20b-a4f8-4842-8150-e141e6f4b4d4",
   "metadata": {},
   "outputs": [
    {
     "data": {
      "text/plain": [
       "{'Matricule': '20221235543',\n",
       " 'Nom': 'KASONGO',\n",
       " 'Prenom': 'David',\n",
       " 'Age': 23,\n",
       " 'GPA': 'A'}"
      ]
     },
     "execution_count": 197,
     "metadata": {},
     "output_type": "execute_result"
    }
   ],
   "source": [
    "info_Etudiants"
   ]
  },
  {
   "cell_type": "code",
   "execution_count": 198,
   "id": "c4748c5e-0a09-4ff2-8074-4ecc17aab102",
   "metadata": {},
   "outputs": [
    {
     "name": "stdout",
     "output_type": "stream",
     "text": [
      "{'Matricule': '20221235543', 'Nom': 'KASONGO', 'Prenom': 'David', 'Age': 23, 'GPA': 'A'}\n"
     ]
    }
   ],
   "source": [
    "print(info_Etudiants)"
   ]
  },
  {
   "cell_type": "code",
   "execution_count": 199,
   "id": "c28f28a3-1bf3-4f8c-bfc0-b4aab6855f0e",
   "metadata": {},
   "outputs": [],
   "source": [
    "info_tous_les_etudiants_BAC_GL_IA = {\n",
    "    'Matricule':[2022098123,2022098124,2022098125,2022098126,2022098127],\n",
    "    'Nom':['sampata','katumba','kimenyembo','kalombo','kalobo'],\n",
    "    'Prenom':['lauren','chris','diev','sam','justin'],\n",
    "    'Age': [25, 22, 45, 58, 93],\n",
    "    'GPA':['A','B','A','C','B']\n",
    "}"
   ]
  },
  {
   "cell_type": "code",
   "execution_count": 200,
   "id": "e37debdb-ec91-4fb5-b4ee-2637ce60c611",
   "metadata": {},
   "outputs": [
    {
     "name": "stdout",
     "output_type": "stream",
     "text": [
      "{'Matricule': [2022098123, 2022098124, 2022098125, 2022098126, 2022098127], 'Nom': ['sampata', 'katumba', 'kimenyembo', 'kalombo', 'kalobo'], 'Prenom': ['lauren', 'chris', 'diev', 'sam', 'justin'], 'Age': [25, 22, 45, 58, 93], 'GPA': ['A', 'B', 'A', 'C', 'B']}\n"
     ]
    }
   ],
   "source": [
    "print( info_tous_les_etudiants_BAC_GL_IA )"
   ]
  },
  {
   "cell_type": "code",
   "execution_count": 201,
   "id": "b7d45fbf-2328-4d96-a4af-37f02c74b4d8",
   "metadata": {},
   "outputs": [],
   "source": [
    "#import pandas\n",
    "import pandas as pd "
   ]
  },
  {
   "cell_type": "code",
   "execution_count": 202,
   "id": "b3c877d3-d1e8-40c7-8662-88cdff0146d5",
   "metadata": {},
   "outputs": [],
   "source": [
    "donnees_etudiants = pd.DataFrame(info_tous_les_etudiants_BAC_GL_IA)"
   ]
  },
  {
   "cell_type": "code",
   "execution_count": 203,
   "id": "fa08065f-76e2-438c-a881-0ce31a91756e",
   "metadata": {
    "scrolled": true
   },
   "outputs": [
    {
     "data": {
      "text/html": [
       "<div>\n",
       "<style scoped>\n",
       "    .dataframe tbody tr th:only-of-type {\n",
       "        vertical-align: middle;\n",
       "    }\n",
       "\n",
       "    .dataframe tbody tr th {\n",
       "        vertical-align: top;\n",
       "    }\n",
       "\n",
       "    .dataframe thead th {\n",
       "        text-align: right;\n",
       "    }\n",
       "</style>\n",
       "<table border=\"1\" class=\"dataframe\">\n",
       "  <thead>\n",
       "    <tr style=\"text-align: right;\">\n",
       "      <th></th>\n",
       "      <th>Matricule</th>\n",
       "      <th>Nom</th>\n",
       "      <th>Prenom</th>\n",
       "      <th>Age</th>\n",
       "      <th>GPA</th>\n",
       "    </tr>\n",
       "  </thead>\n",
       "  <tbody>\n",
       "    <tr>\n",
       "      <th>0</th>\n",
       "      <td>2022098123</td>\n",
       "      <td>sampata</td>\n",
       "      <td>lauren</td>\n",
       "      <td>25</td>\n",
       "      <td>A</td>\n",
       "    </tr>\n",
       "    <tr>\n",
       "      <th>1</th>\n",
       "      <td>2022098124</td>\n",
       "      <td>katumba</td>\n",
       "      <td>chris</td>\n",
       "      <td>22</td>\n",
       "      <td>B</td>\n",
       "    </tr>\n",
       "    <tr>\n",
       "      <th>2</th>\n",
       "      <td>2022098125</td>\n",
       "      <td>kimenyembo</td>\n",
       "      <td>diev</td>\n",
       "      <td>45</td>\n",
       "      <td>A</td>\n",
       "    </tr>\n",
       "    <tr>\n",
       "      <th>3</th>\n",
       "      <td>2022098126</td>\n",
       "      <td>kalombo</td>\n",
       "      <td>sam</td>\n",
       "      <td>58</td>\n",
       "      <td>C</td>\n",
       "    </tr>\n",
       "    <tr>\n",
       "      <th>4</th>\n",
       "      <td>2022098127</td>\n",
       "      <td>kalobo</td>\n",
       "      <td>justin</td>\n",
       "      <td>93</td>\n",
       "      <td>B</td>\n",
       "    </tr>\n",
       "  </tbody>\n",
       "</table>\n",
       "</div>"
      ],
      "text/plain": [
       "    Matricule         Nom  Prenom  Age GPA\n",
       "0  2022098123     sampata  lauren   25   A\n",
       "1  2022098124     katumba   chris   22   B\n",
       "2  2022098125  kimenyembo    diev   45   A\n",
       "3  2022098126     kalombo     sam   58   C\n",
       "4  2022098127      kalobo  justin   93   B"
      ]
     },
     "execution_count": 203,
     "metadata": {},
     "output_type": "execute_result"
    }
   ],
   "source": [
    "donnees_etudiants"
   ]
  },
  {
   "cell_type": "code",
   "execution_count": 204,
   "id": "c8c8eb82-63ac-44a8-bca7-69d4b8df9de3",
   "metadata": {
    "scrolled": true
   },
   "outputs": [
    {
     "data": {
      "text/html": [
       "<div>\n",
       "<style scoped>\n",
       "    .dataframe tbody tr th:only-of-type {\n",
       "        vertical-align: middle;\n",
       "    }\n",
       "\n",
       "    .dataframe tbody tr th {\n",
       "        vertical-align: top;\n",
       "    }\n",
       "\n",
       "    .dataframe thead th {\n",
       "        text-align: right;\n",
       "    }\n",
       "</style>\n",
       "<table border=\"1\" class=\"dataframe\">\n",
       "  <thead>\n",
       "    <tr style=\"text-align: right;\">\n",
       "      <th></th>\n",
       "      <th>Matricule</th>\n",
       "      <th>Nom</th>\n",
       "      <th>Prenom</th>\n",
       "      <th>Age</th>\n",
       "      <th>GPA</th>\n",
       "    </tr>\n",
       "  </thead>\n",
       "  <tbody>\n",
       "    <tr>\n",
       "      <th>3</th>\n",
       "      <td>2022098126</td>\n",
       "      <td>kalombo</td>\n",
       "      <td>sam</td>\n",
       "      <td>58</td>\n",
       "      <td>C</td>\n",
       "    </tr>\n",
       "    <tr>\n",
       "      <th>4</th>\n",
       "      <td>2022098127</td>\n",
       "      <td>kalobo</td>\n",
       "      <td>justin</td>\n",
       "      <td>93</td>\n",
       "      <td>B</td>\n",
       "    </tr>\n",
       "  </tbody>\n",
       "</table>\n",
       "</div>"
      ],
      "text/plain": [
       "    Matricule      Nom  Prenom  Age GPA\n",
       "3  2022098126  kalombo     sam   58   C\n",
       "4  2022098127   kalobo  justin   93   B"
      ]
     },
     "execution_count": 204,
     "metadata": {},
     "output_type": "execute_result"
    }
   ],
   "source": [
    "donnees_etudiants.tail(2)"
   ]
  },
  {
   "cell_type": "code",
   "execution_count": 205,
   "id": "fd382671-24e2-4509-8859-74573cf42a5e",
   "metadata": {},
   "outputs": [
    {
     "data": {
      "text/html": [
       "<div>\n",
       "<style scoped>\n",
       "    .dataframe tbody tr th:only-of-type {\n",
       "        vertical-align: middle;\n",
       "    }\n",
       "\n",
       "    .dataframe tbody tr th {\n",
       "        vertical-align: top;\n",
       "    }\n",
       "\n",
       "    .dataframe thead th {\n",
       "        text-align: right;\n",
       "    }\n",
       "</style>\n",
       "<table border=\"1\" class=\"dataframe\">\n",
       "  <thead>\n",
       "    <tr style=\"text-align: right;\">\n",
       "      <th></th>\n",
       "      <th>Matricule</th>\n",
       "      <th>Nom</th>\n",
       "      <th>Prenom</th>\n",
       "      <th>Age</th>\n",
       "      <th>GPA</th>\n",
       "    </tr>\n",
       "  </thead>\n",
       "  <tbody>\n",
       "    <tr>\n",
       "      <th>0</th>\n",
       "      <td>2022098123</td>\n",
       "      <td>sampata</td>\n",
       "      <td>lauren</td>\n",
       "      <td>25</td>\n",
       "      <td>A</td>\n",
       "    </tr>\n",
       "    <tr>\n",
       "      <th>1</th>\n",
       "      <td>2022098124</td>\n",
       "      <td>katumba</td>\n",
       "      <td>chris</td>\n",
       "      <td>22</td>\n",
       "      <td>B</td>\n",
       "    </tr>\n",
       "    <tr>\n",
       "      <th>2</th>\n",
       "      <td>2022098125</td>\n",
       "      <td>kimenyembo</td>\n",
       "      <td>diev</td>\n",
       "      <td>45</td>\n",
       "      <td>A</td>\n",
       "    </tr>\n",
       "    <tr>\n",
       "      <th>3</th>\n",
       "      <td>2022098126</td>\n",
       "      <td>kalombo</td>\n",
       "      <td>sam</td>\n",
       "      <td>58</td>\n",
       "      <td>C</td>\n",
       "    </tr>\n",
       "  </tbody>\n",
       "</table>\n",
       "</div>"
      ],
      "text/plain": [
       "    Matricule         Nom  Prenom  Age GPA\n",
       "0  2022098123     sampata  lauren   25   A\n",
       "1  2022098124     katumba   chris   22   B\n",
       "2  2022098125  kimenyembo    diev   45   A\n",
       "3  2022098126     kalombo     sam   58   C"
      ]
     },
     "execution_count": 205,
     "metadata": {},
     "output_type": "execute_result"
    }
   ],
   "source": [
    "donnees_etudiants.head(4)"
   ]
  },
  {
   "cell_type": "code",
   "execution_count": 206,
   "id": "83f72a6e-f77e-4cd2-99b0-f373a4786632",
   "metadata": {},
   "outputs": [
    {
     "name": "stdout",
     "output_type": "stream",
     "text": [
      "    Matricule         Nom  Prenom  Age GPA\n",
      "0  2022098123     sampata  lauren   25   A\n",
      "1  2022098124     katumba   chris   22   B\n",
      "2  2022098125  kimenyembo    diev   45   A\n",
      "3  2022098126     kalombo     sam   58   C\n",
      "4  2022098127      kalobo  justin   93   B\n"
     ]
    }
   ],
   "source": [
    "print(donnees_etudiants)"
   ]
  },
  {
   "cell_type": "code",
   "execution_count": 207,
   "id": "a8c172a0-2f18-486d-98d6-2d656819bf32",
   "metadata": {},
   "outputs": [
    {
     "data": {
      "text/plain": [
       "0    2022098123\n",
       "1    2022098124\n",
       "2    2022098125\n",
       "3    2022098126\n",
       "4    2022098127\n",
       "Name: Matricule, dtype: int64"
      ]
     },
     "execution_count": 207,
     "metadata": {},
     "output_type": "execute_result"
    }
   ],
   "source": [
    "donnees_etudiants['Matricule']"
   ]
  },
  {
   "cell_type": "code",
   "execution_count": 208,
   "id": "17d4097c-286b-47fe-8729-8b484a8ee17d",
   "metadata": {},
   "outputs": [
    {
     "data": {
      "text/html": [
       "<div>\n",
       "<style scoped>\n",
       "    .dataframe tbody tr th:only-of-type {\n",
       "        vertical-align: middle;\n",
       "    }\n",
       "\n",
       "    .dataframe tbody tr th {\n",
       "        vertical-align: top;\n",
       "    }\n",
       "\n",
       "    .dataframe thead th {\n",
       "        text-align: right;\n",
       "    }\n",
       "</style>\n",
       "<table border=\"1\" class=\"dataframe\">\n",
       "  <thead>\n",
       "    <tr style=\"text-align: right;\">\n",
       "      <th></th>\n",
       "      <th>Matricule</th>\n",
       "      <th>Nom</th>\n",
       "    </tr>\n",
       "  </thead>\n",
       "  <tbody>\n",
       "    <tr>\n",
       "      <th>0</th>\n",
       "      <td>2022098123</td>\n",
       "      <td>sampata</td>\n",
       "    </tr>\n",
       "    <tr>\n",
       "      <th>1</th>\n",
       "      <td>2022098124</td>\n",
       "      <td>katumba</td>\n",
       "    </tr>\n",
       "    <tr>\n",
       "      <th>2</th>\n",
       "      <td>2022098125</td>\n",
       "      <td>kimenyembo</td>\n",
       "    </tr>\n",
       "    <tr>\n",
       "      <th>3</th>\n",
       "      <td>2022098126</td>\n",
       "      <td>kalombo</td>\n",
       "    </tr>\n",
       "    <tr>\n",
       "      <th>4</th>\n",
       "      <td>2022098127</td>\n",
       "      <td>kalobo</td>\n",
       "    </tr>\n",
       "  </tbody>\n",
       "</table>\n",
       "</div>"
      ],
      "text/plain": [
       "    Matricule         Nom\n",
       "0  2022098123     sampata\n",
       "1  2022098124     katumba\n",
       "2  2022098125  kimenyembo\n",
       "3  2022098126     kalombo\n",
       "4  2022098127      kalobo"
      ]
     },
     "execution_count": 208,
     "metadata": {},
     "output_type": "execute_result"
    }
   ],
   "source": [
    "donnees_etudiants[['Matricule','Nom']]"
   ]
  },
  {
   "cell_type": "code",
   "execution_count": 209,
   "id": "ebf9376a-a7fc-43e1-b3a7-3c15da52b303",
   "metadata": {},
   "outputs": [
    {
     "data": {
      "text/plain": [
       "0    lauren\n",
       "1     chris\n",
       "2      diev\n",
       "3       sam\n",
       "4    justin\n",
       "Name: Prenom, dtype: object"
      ]
     },
     "execution_count": 209,
     "metadata": {},
     "output_type": "execute_result"
    }
   ],
   "source": [
    "donnees_etudiants['Prenom']"
   ]
  },
  {
   "cell_type": "code",
   "execution_count": 210,
   "id": "c6c8a3c2-75a7-4f78-98c6-e5aaea521ed6",
   "metadata": {},
   "outputs": [
    {
     "data": {
      "text/html": [
       "<div>\n",
       "<style scoped>\n",
       "    .dataframe tbody tr th:only-of-type {\n",
       "        vertical-align: middle;\n",
       "    }\n",
       "\n",
       "    .dataframe tbody tr th {\n",
       "        vertical-align: top;\n",
       "    }\n",
       "\n",
       "    .dataframe thead th {\n",
       "        text-align: right;\n",
       "    }\n",
       "</style>\n",
       "<table border=\"1\" class=\"dataframe\">\n",
       "  <thead>\n",
       "    <tr style=\"text-align: right;\">\n",
       "      <th></th>\n",
       "      <th>Nom</th>\n",
       "    </tr>\n",
       "  </thead>\n",
       "  <tbody>\n",
       "    <tr>\n",
       "      <th>1</th>\n",
       "      <td>katumba</td>\n",
       "    </tr>\n",
       "  </tbody>\n",
       "</table>\n",
       "</div>"
      ],
      "text/plain": [
       "       Nom\n",
       "1  katumba"
      ]
     },
     "execution_count": 210,
     "metadata": {},
     "output_type": "execute_result"
    }
   ],
   "source": [
    "donnees_etudiants.iloc[1:2 , 1:2]"
   ]
  },
  {
   "cell_type": "code",
   "execution_count": 211,
   "id": "7694aae5-19c5-40aa-a15d-50d3199cdccf",
   "metadata": {},
   "outputs": [
    {
     "data": {
      "text/html": [
       "<div>\n",
       "<style scoped>\n",
       "    .dataframe tbody tr th:only-of-type {\n",
       "        vertical-align: middle;\n",
       "    }\n",
       "\n",
       "    .dataframe tbody tr th {\n",
       "        vertical-align: top;\n",
       "    }\n",
       "\n",
       "    .dataframe thead th {\n",
       "        text-align: right;\n",
       "    }\n",
       "</style>\n",
       "<table border=\"1\" class=\"dataframe\">\n",
       "  <thead>\n",
       "    <tr style=\"text-align: right;\">\n",
       "      <th></th>\n",
       "      <th>Matricule</th>\n",
       "      <th>Nom</th>\n",
       "      <th>Prenom</th>\n",
       "      <th>Age</th>\n",
       "      <th>GPA</th>\n",
       "    </tr>\n",
       "  </thead>\n",
       "  <tbody>\n",
       "    <tr>\n",
       "      <th>0</th>\n",
       "      <td>2022098123</td>\n",
       "      <td>sampata</td>\n",
       "      <td>lauren</td>\n",
       "      <td>25</td>\n",
       "      <td>A</td>\n",
       "    </tr>\n",
       "    <tr>\n",
       "      <th>1</th>\n",
       "      <td>2022098124</td>\n",
       "      <td>katumba</td>\n",
       "      <td>chris</td>\n",
       "      <td>22</td>\n",
       "      <td>B</td>\n",
       "    </tr>\n",
       "    <tr>\n",
       "      <th>2</th>\n",
       "      <td>2022098125</td>\n",
       "      <td>kimenyembo</td>\n",
       "      <td>diev</td>\n",
       "      <td>45</td>\n",
       "      <td>A</td>\n",
       "    </tr>\n",
       "    <tr>\n",
       "      <th>3</th>\n",
       "      <td>2022098126</td>\n",
       "      <td>kalombo</td>\n",
       "      <td>sam</td>\n",
       "      <td>58</td>\n",
       "      <td>C</td>\n",
       "    </tr>\n",
       "    <tr>\n",
       "      <th>4</th>\n",
       "      <td>2022098127</td>\n",
       "      <td>kalobo</td>\n",
       "      <td>justin</td>\n",
       "      <td>93</td>\n",
       "      <td>B</td>\n",
       "    </tr>\n",
       "  </tbody>\n",
       "</table>\n",
       "</div>"
      ],
      "text/plain": [
       "    Matricule         Nom  Prenom  Age GPA\n",
       "0  2022098123     sampata  lauren   25   A\n",
       "1  2022098124     katumba   chris   22   B\n",
       "2  2022098125  kimenyembo    diev   45   A\n",
       "3  2022098126     kalombo     sam   58   C\n",
       "4  2022098127      kalobo  justin   93   B"
      ]
     },
     "execution_count": 211,
     "metadata": {},
     "output_type": "execute_result"
    }
   ],
   "source": [
    "donnees_etudiants"
   ]
  },
  {
   "cell_type": "code",
   "execution_count": 212,
   "id": "deda2187-cc32-4ddb-a0ff-069c11544965",
   "metadata": {
    "scrolled": true
   },
   "outputs": [],
   "source": [
    "donnees_etudiants['Genre'] = ['F','M','M','F','F']"
   ]
  },
  {
   "cell_type": "code",
   "execution_count": 213,
   "id": "078561b7-eda3-4a49-a1e7-8f5ea352425b",
   "metadata": {},
   "outputs": [
    {
     "data": {
      "text/html": [
       "<div>\n",
       "<style scoped>\n",
       "    .dataframe tbody tr th:only-of-type {\n",
       "        vertical-align: middle;\n",
       "    }\n",
       "\n",
       "    .dataframe tbody tr th {\n",
       "        vertical-align: top;\n",
       "    }\n",
       "\n",
       "    .dataframe thead th {\n",
       "        text-align: right;\n",
       "    }\n",
       "</style>\n",
       "<table border=\"1\" class=\"dataframe\">\n",
       "  <thead>\n",
       "    <tr style=\"text-align: right;\">\n",
       "      <th></th>\n",
       "      <th>Matricule</th>\n",
       "      <th>Nom</th>\n",
       "      <th>Prenom</th>\n",
       "      <th>Age</th>\n",
       "      <th>GPA</th>\n",
       "      <th>Genre</th>\n",
       "    </tr>\n",
       "  </thead>\n",
       "  <tbody>\n",
       "    <tr>\n",
       "      <th>0</th>\n",
       "      <td>2022098123</td>\n",
       "      <td>sampata</td>\n",
       "      <td>lauren</td>\n",
       "      <td>25</td>\n",
       "      <td>A</td>\n",
       "      <td>F</td>\n",
       "    </tr>\n",
       "    <tr>\n",
       "      <th>1</th>\n",
       "      <td>2022098124</td>\n",
       "      <td>katumba</td>\n",
       "      <td>chris</td>\n",
       "      <td>22</td>\n",
       "      <td>B</td>\n",
       "      <td>M</td>\n",
       "    </tr>\n",
       "    <tr>\n",
       "      <th>2</th>\n",
       "      <td>2022098125</td>\n",
       "      <td>kimenyembo</td>\n",
       "      <td>diev</td>\n",
       "      <td>45</td>\n",
       "      <td>A</td>\n",
       "      <td>M</td>\n",
       "    </tr>\n",
       "    <tr>\n",
       "      <th>3</th>\n",
       "      <td>2022098126</td>\n",
       "      <td>kalombo</td>\n",
       "      <td>sam</td>\n",
       "      <td>58</td>\n",
       "      <td>C</td>\n",
       "      <td>F</td>\n",
       "    </tr>\n",
       "    <tr>\n",
       "      <th>4</th>\n",
       "      <td>2022098127</td>\n",
       "      <td>kalobo</td>\n",
       "      <td>justin</td>\n",
       "      <td>93</td>\n",
       "      <td>B</td>\n",
       "      <td>F</td>\n",
       "    </tr>\n",
       "  </tbody>\n",
       "</table>\n",
       "</div>"
      ],
      "text/plain": [
       "    Matricule         Nom  Prenom  Age GPA Genre\n",
       "0  2022098123     sampata  lauren   25   A     F\n",
       "1  2022098124     katumba   chris   22   B     M\n",
       "2  2022098125  kimenyembo    diev   45   A     M\n",
       "3  2022098126     kalombo     sam   58   C     F\n",
       "4  2022098127      kalobo  justin   93   B     F"
      ]
     },
     "execution_count": 213,
     "metadata": {},
     "output_type": "execute_result"
    }
   ],
   "source": [
    "donnees_etudiants"
   ]
  },
  {
   "cell_type": "code",
   "execution_count": 214,
   "id": "d985c852-0313-42a9-b079-14605708b09d",
   "metadata": {},
   "outputs": [],
   "source": [
    "donnees_etudiants['Pourcentage'] = [64, 37,73,90,68]"
   ]
  },
  {
   "cell_type": "code",
   "execution_count": 215,
   "id": "0ee15073-3db7-4f83-a3f5-e028eec310cf",
   "metadata": {},
   "outputs": [
    {
     "data": {
      "text/html": [
       "<div>\n",
       "<style scoped>\n",
       "    .dataframe tbody tr th:only-of-type {\n",
       "        vertical-align: middle;\n",
       "    }\n",
       "\n",
       "    .dataframe tbody tr th {\n",
       "        vertical-align: top;\n",
       "    }\n",
       "\n",
       "    .dataframe thead th {\n",
       "        text-align: right;\n",
       "    }\n",
       "</style>\n",
       "<table border=\"1\" class=\"dataframe\">\n",
       "  <thead>\n",
       "    <tr style=\"text-align: right;\">\n",
       "      <th></th>\n",
       "      <th>Matricule</th>\n",
       "      <th>Nom</th>\n",
       "      <th>Prenom</th>\n",
       "      <th>Age</th>\n",
       "      <th>GPA</th>\n",
       "      <th>Genre</th>\n",
       "      <th>Pourcentage</th>\n",
       "    </tr>\n",
       "  </thead>\n",
       "  <tbody>\n",
       "    <tr>\n",
       "      <th>0</th>\n",
       "      <td>2022098123</td>\n",
       "      <td>sampata</td>\n",
       "      <td>lauren</td>\n",
       "      <td>25</td>\n",
       "      <td>A</td>\n",
       "      <td>F</td>\n",
       "      <td>64</td>\n",
       "    </tr>\n",
       "    <tr>\n",
       "      <th>1</th>\n",
       "      <td>2022098124</td>\n",
       "      <td>katumba</td>\n",
       "      <td>chris</td>\n",
       "      <td>22</td>\n",
       "      <td>B</td>\n",
       "      <td>M</td>\n",
       "      <td>37</td>\n",
       "    </tr>\n",
       "    <tr>\n",
       "      <th>2</th>\n",
       "      <td>2022098125</td>\n",
       "      <td>kimenyembo</td>\n",
       "      <td>diev</td>\n",
       "      <td>45</td>\n",
       "      <td>A</td>\n",
       "      <td>M</td>\n",
       "      <td>73</td>\n",
       "    </tr>\n",
       "    <tr>\n",
       "      <th>3</th>\n",
       "      <td>2022098126</td>\n",
       "      <td>kalombo</td>\n",
       "      <td>sam</td>\n",
       "      <td>58</td>\n",
       "      <td>C</td>\n",
       "      <td>F</td>\n",
       "      <td>90</td>\n",
       "    </tr>\n",
       "    <tr>\n",
       "      <th>4</th>\n",
       "      <td>2022098127</td>\n",
       "      <td>kalobo</td>\n",
       "      <td>justin</td>\n",
       "      <td>93</td>\n",
       "      <td>B</td>\n",
       "      <td>F</td>\n",
       "      <td>68</td>\n",
       "    </tr>\n",
       "  </tbody>\n",
       "</table>\n",
       "</div>"
      ],
      "text/plain": [
       "    Matricule         Nom  Prenom  Age GPA Genre  Pourcentage\n",
       "0  2022098123     sampata  lauren   25   A     F           64\n",
       "1  2022098124     katumba   chris   22   B     M           37\n",
       "2  2022098125  kimenyembo    diev   45   A     M           73\n",
       "3  2022098126     kalombo     sam   58   C     F           90\n",
       "4  2022098127      kalobo  justin   93   B     F           68"
      ]
     },
     "execution_count": 215,
     "metadata": {},
     "output_type": "execute_result"
    }
   ],
   "source": [
    "donnees_etudiants"
   ]
  },
  {
   "cell_type": "code",
   "execution_count": 216,
   "id": "57e42e08-aa7e-4b2e-a3ef-9106909fc8dd",
   "metadata": {},
   "outputs": [],
   "source": [
    "donnees_etudiants.drop(columns = 'GPA', inplace=True)"
   ]
  },
  {
   "cell_type": "code",
   "execution_count": 217,
   "id": "9a89f263-4701-4c05-8658-54d8b0679110",
   "metadata": {},
   "outputs": [
    {
     "data": {
      "text/html": [
       "<div>\n",
       "<style scoped>\n",
       "    .dataframe tbody tr th:only-of-type {\n",
       "        vertical-align: middle;\n",
       "    }\n",
       "\n",
       "    .dataframe tbody tr th {\n",
       "        vertical-align: top;\n",
       "    }\n",
       "\n",
       "    .dataframe thead th {\n",
       "        text-align: right;\n",
       "    }\n",
       "</style>\n",
       "<table border=\"1\" class=\"dataframe\">\n",
       "  <thead>\n",
       "    <tr style=\"text-align: right;\">\n",
       "      <th></th>\n",
       "      <th>Matricule</th>\n",
       "      <th>Nom</th>\n",
       "      <th>Prenom</th>\n",
       "      <th>Age</th>\n",
       "      <th>Genre</th>\n",
       "      <th>Pourcentage</th>\n",
       "    </tr>\n",
       "  </thead>\n",
       "  <tbody>\n",
       "    <tr>\n",
       "      <th>0</th>\n",
       "      <td>2022098123</td>\n",
       "      <td>sampata</td>\n",
       "      <td>lauren</td>\n",
       "      <td>25</td>\n",
       "      <td>F</td>\n",
       "      <td>64</td>\n",
       "    </tr>\n",
       "    <tr>\n",
       "      <th>1</th>\n",
       "      <td>2022098124</td>\n",
       "      <td>katumba</td>\n",
       "      <td>chris</td>\n",
       "      <td>22</td>\n",
       "      <td>M</td>\n",
       "      <td>37</td>\n",
       "    </tr>\n",
       "    <tr>\n",
       "      <th>2</th>\n",
       "      <td>2022098125</td>\n",
       "      <td>kimenyembo</td>\n",
       "      <td>diev</td>\n",
       "      <td>45</td>\n",
       "      <td>M</td>\n",
       "      <td>73</td>\n",
       "    </tr>\n",
       "    <tr>\n",
       "      <th>3</th>\n",
       "      <td>2022098126</td>\n",
       "      <td>kalombo</td>\n",
       "      <td>sam</td>\n",
       "      <td>58</td>\n",
       "      <td>F</td>\n",
       "      <td>90</td>\n",
       "    </tr>\n",
       "    <tr>\n",
       "      <th>4</th>\n",
       "      <td>2022098127</td>\n",
       "      <td>kalobo</td>\n",
       "      <td>justin</td>\n",
       "      <td>93</td>\n",
       "      <td>F</td>\n",
       "      <td>68</td>\n",
       "    </tr>\n",
       "  </tbody>\n",
       "</table>\n",
       "</div>"
      ],
      "text/plain": [
       "    Matricule         Nom  Prenom  Age Genre  Pourcentage\n",
       "0  2022098123     sampata  lauren   25     F           64\n",
       "1  2022098124     katumba   chris   22     M           37\n",
       "2  2022098125  kimenyembo    diev   45     M           73\n",
       "3  2022098126     kalombo     sam   58     F           90\n",
       "4  2022098127      kalobo  justin   93     F           68"
      ]
     },
     "execution_count": 217,
     "metadata": {},
     "output_type": "execute_result"
    }
   ],
   "source": [
    "donnees_etudiants"
   ]
  },
  {
   "cell_type": "code",
   "execution_count": 218,
   "id": "cc44f38c-a960-44e0-bb54-5deaa103bee9",
   "metadata": {},
   "outputs": [],
   "source": [
    "#convertir la colonnne genre en M = 1 et F=0\n",
    "#Mapping de la colonne genre \n",
    "Mapping_Genre = {\n",
    "    'M':1,\n",
    "    'F':0\n",
    "}\n",
    "donnees_etudiants['Genre'] = donnees_etudiants['Genre'].map(Mapping_Genre)"
   ]
  },
  {
   "cell_type": "code",
   "execution_count": 219,
   "id": "fdd22c42-873f-41da-aa79-3e07c4f06bbc",
   "metadata": {},
   "outputs": [
    {
     "data": {
      "text/html": [
       "<div>\n",
       "<style scoped>\n",
       "    .dataframe tbody tr th:only-of-type {\n",
       "        vertical-align: middle;\n",
       "    }\n",
       "\n",
       "    .dataframe tbody tr th {\n",
       "        vertical-align: top;\n",
       "    }\n",
       "\n",
       "    .dataframe thead th {\n",
       "        text-align: right;\n",
       "    }\n",
       "</style>\n",
       "<table border=\"1\" class=\"dataframe\">\n",
       "  <thead>\n",
       "    <tr style=\"text-align: right;\">\n",
       "      <th></th>\n",
       "      <th>Matricule</th>\n",
       "      <th>Nom</th>\n",
       "      <th>Prenom</th>\n",
       "      <th>Age</th>\n",
       "      <th>Genre</th>\n",
       "      <th>Pourcentage</th>\n",
       "    </tr>\n",
       "  </thead>\n",
       "  <tbody>\n",
       "    <tr>\n",
       "      <th>0</th>\n",
       "      <td>2022098123</td>\n",
       "      <td>sampata</td>\n",
       "      <td>lauren</td>\n",
       "      <td>25</td>\n",
       "      <td>0</td>\n",
       "      <td>64</td>\n",
       "    </tr>\n",
       "    <tr>\n",
       "      <th>1</th>\n",
       "      <td>2022098124</td>\n",
       "      <td>katumba</td>\n",
       "      <td>chris</td>\n",
       "      <td>22</td>\n",
       "      <td>1</td>\n",
       "      <td>37</td>\n",
       "    </tr>\n",
       "    <tr>\n",
       "      <th>2</th>\n",
       "      <td>2022098125</td>\n",
       "      <td>kimenyembo</td>\n",
       "      <td>diev</td>\n",
       "      <td>45</td>\n",
       "      <td>1</td>\n",
       "      <td>73</td>\n",
       "    </tr>\n",
       "    <tr>\n",
       "      <th>3</th>\n",
       "      <td>2022098126</td>\n",
       "      <td>kalombo</td>\n",
       "      <td>sam</td>\n",
       "      <td>58</td>\n",
       "      <td>0</td>\n",
       "      <td>90</td>\n",
       "    </tr>\n",
       "    <tr>\n",
       "      <th>4</th>\n",
       "      <td>2022098127</td>\n",
       "      <td>kalobo</td>\n",
       "      <td>justin</td>\n",
       "      <td>93</td>\n",
       "      <td>0</td>\n",
       "      <td>68</td>\n",
       "    </tr>\n",
       "  </tbody>\n",
       "</table>\n",
       "</div>"
      ],
      "text/plain": [
       "    Matricule         Nom  Prenom  Age  Genre  Pourcentage\n",
       "0  2022098123     sampata  lauren   25      0           64\n",
       "1  2022098124     katumba   chris   22      1           37\n",
       "2  2022098125  kimenyembo    diev   45      1           73\n",
       "3  2022098126     kalombo     sam   58      0           90\n",
       "4  2022098127      kalobo  justin   93      0           68"
      ]
     },
     "execution_count": 219,
     "metadata": {},
     "output_type": "execute_result"
    }
   ],
   "source": [
    "donnees_etudiants"
   ]
  },
  {
   "cell_type": "code",
   "execution_count": 220,
   "id": "9f7314bd-9e60-400a-83b4-a4baa19c14da",
   "metadata": {},
   "outputs": [
    {
     "name": "stdout",
     "output_type": "stream",
     "text": [
      "    Matricule         Nom  Prenom  Age  Genre  Pourcentage\n",
      "0  2022098123     sampata  lauren   25      0           64\n",
      "1  2022098124     katumba   chris   22      1           37\n",
      "2  2022098125  kimenyembo    diev   45      1           73\n"
     ]
    }
   ],
   "source": [
    "print(donnees_etudiants.head(3))"
   ]
  },
  {
   "cell_type": "code",
   "execution_count": 221,
   "id": "7733ee92-567c-4afc-8153-36d9cd6f91c2",
   "metadata": {},
   "outputs": [
    {
     "name": "stdout",
     "output_type": "stream",
     "text": [
      "<class 'pandas.core.frame.DataFrame'>\n",
      "RangeIndex: 5 entries, 0 to 4\n",
      "Data columns (total 6 columns):\n",
      " #   Column       Non-Null Count  Dtype \n",
      "---  ------       --------------  ----- \n",
      " 0   Matricule    5 non-null      int64 \n",
      " 1   Nom          5 non-null      object\n",
      " 2   Prenom       5 non-null      object\n",
      " 3   Age          5 non-null      int64 \n",
      " 4   Genre        5 non-null      int64 \n",
      " 5   Pourcentage  5 non-null      int64 \n",
      "dtypes: int64(4), object(2)\n",
      "memory usage: 368.0+ bytes\n",
      "None\n"
     ]
    }
   ],
   "source": [
    "print(donnees_etudiants.info())"
   ]
  },
  {
   "cell_type": "code",
   "execution_count": 222,
   "id": "374b3a07-2369-440a-994f-38f53033795a",
   "metadata": {},
   "outputs": [
    {
     "name": "stdout",
     "output_type": "stream",
     "text": [
      "count     5.000000\n",
      "mean     48.600000\n",
      "std      28.884252\n",
      "min      22.000000\n",
      "25%      25.000000\n",
      "50%      45.000000\n",
      "75%      58.000000\n",
      "max      93.000000\n",
      "Name: Age, dtype: float64\n"
     ]
    }
   ],
   "source": [
    "print(donnees_etudiants['Age'].describe())"
   ]
  },
  {
   "cell_type": "markdown",
   "id": "d789f415-5812-403e-9079-c32f613c1eb3",
   "metadata": {},
   "source": [
    "# D VISUALISATION DES DONNEES "
   ]
  },
  {
   "cell_type": "code",
   "execution_count": 223,
   "id": "3353d77e-1350-48fe-bf30-0f27b1f49f9c",
   "metadata": {},
   "outputs": [],
   "source": [
    "import matplotlib.pyplot as plt"
   ]
  },
  {
   "cell_type": "code",
   "execution_count": 224,
   "id": "9265f4ec-b9c5-477f-8bc9-9b730bafdd9b",
   "metadata": {},
   "outputs": [],
   "source": [
    "# creation de donnees \n",
    "x = np.linspace(0,2,50)"
   ]
  },
  {
   "cell_type": "code",
   "execution_count": 225,
   "id": "7b941199-4db2-44e1-9465-e511c3b7384e",
   "metadata": {},
   "outputs": [
    {
     "data": {
      "text/plain": [
       "array([0.        , 0.04081633, 0.08163265, 0.12244898, 0.16326531,\n",
       "       0.20408163, 0.24489796, 0.28571429, 0.32653061, 0.36734694,\n",
       "       0.40816327, 0.44897959, 0.48979592, 0.53061224, 0.57142857,\n",
       "       0.6122449 , 0.65306122, 0.69387755, 0.73469388, 0.7755102 ,\n",
       "       0.81632653, 0.85714286, 0.89795918, 0.93877551, 0.97959184,\n",
       "       1.02040816, 1.06122449, 1.10204082, 1.14285714, 1.18367347,\n",
       "       1.2244898 , 1.26530612, 1.30612245, 1.34693878, 1.3877551 ,\n",
       "       1.42857143, 1.46938776, 1.51020408, 1.55102041, 1.59183673,\n",
       "       1.63265306, 1.67346939, 1.71428571, 1.75510204, 1.79591837,\n",
       "       1.83673469, 1.87755102, 1.91836735, 1.95918367, 2.        ])"
      ]
     },
     "execution_count": 225,
     "metadata": {},
     "output_type": "execute_result"
    }
   ],
   "source": [
    "x"
   ]
  },
  {
   "cell_type": "code",
   "execution_count": 226,
   "id": "69ba33da-2850-4301-a732-f7cb38b3e9de",
   "metadata": {},
   "outputs": [
    {
     "data": {
      "text/plain": [
       "<matplotlib.legend.Legend at 0x2242843f310>"
      ]
     },
     "execution_count": 226,
     "metadata": {},
     "output_type": "execute_result"
    },
    {
     "data": {
      "image/png": "[encoded data removed]",
      "text/plain": [
       "<Figure size 600x400 with 1 Axes>"
      ]
     },
     "metadata": {},
     "output_type": "display_data"
    }
   ],
   "source": [
    "fig, ax = plt.subplots(figsize=(6,4))\n",
    "ax.plot(x,x*2,label='carre')\n",
    "ax.plot(x,x**2, label='carre de x')\n",
    "ax.set_xlabel('Donnees de x')\n",
    "ax.set_ylabel('Donnees de y')\n",
    "ax.legend()"
   ]
  },
  {
   "cell_type": "code",
   "execution_count": 227,
   "id": "3e4422e4-c1e8-49f6-9ab9-ca969751ea1a",
   "metadata": {},
   "outputs": [],
   "source": [
    "import seaborn as sns "
   ]
  },
  {
   "cell_type": "code",
   "execution_count": 228,
   "id": "9af269d6-5814-4468-a929-b3ed7c448264",
   "metadata": {},
   "outputs": [],
   "source": [
    "iris_data = sns.load_dataset('iris')"
   ]
  },
  {
   "cell_type": "code",
   "execution_count": 229,
   "id": "b1671e9d-a578-480b-8649-1e345bccfce6",
   "metadata": {},
   "outputs": [
    {
     "data": {
      "text/html": [
       "<div>\n",
       "<style scoped>\n",
       "    .dataframe tbody tr th:only-of-type {\n",
       "        vertical-align: middle;\n",
       "    }\n",
       "\n",
       "    .dataframe tbody tr th {\n",
       "        vertical-align: top;\n",
       "    }\n",
       "\n",
       "    .dataframe thead th {\n",
       "        text-align: right;\n",
       "    }\n",
       "</style>\n",
       "<table border=\"1\" class=\"dataframe\">\n",
       "  <thead>\n",
       "    <tr style=\"text-align: right;\">\n",
       "      <th></th>\n",
       "      <th>sepal_length</th>\n",
       "      <th>sepal_width</th>\n",
       "      <th>petal_length</th>\n",
       "      <th>petal_width</th>\n",
       "      <th>species</th>\n",
       "    </tr>\n",
       "  </thead>\n",
       "  <tbody>\n",
       "    <tr>\n",
       "      <th>0</th>\n",
       "      <td>5.1</td>\n",
       "      <td>3.5</td>\n",
       "      <td>1.4</td>\n",
       "      <td>0.2</td>\n",
       "      <td>setosa</td>\n",
       "    </tr>\n",
       "    <tr>\n",
       "      <th>1</th>\n",
       "      <td>4.9</td>\n",
       "      <td>3.0</td>\n",
       "      <td>1.4</td>\n",
       "      <td>0.2</td>\n",
       "      <td>setosa</td>\n",
       "    </tr>\n",
       "    <tr>\n",
       "      <th>2</th>\n",
       "      <td>4.7</td>\n",
       "      <td>3.2</td>\n",
       "      <td>1.3</td>\n",
       "      <td>0.2</td>\n",
       "      <td>setosa</td>\n",
       "    </tr>\n",
       "    <tr>\n",
       "      <th>3</th>\n",
       "      <td>4.6</td>\n",
       "      <td>3.1</td>\n",
       "      <td>1.5</td>\n",
       "      <td>0.2</td>\n",
       "      <td>setosa</td>\n",
       "    </tr>\n",
       "    <tr>\n",
       "      <th>4</th>\n",
       "      <td>5.0</td>\n",
       "      <td>3.6</td>\n",
       "      <td>1.4</td>\n",
       "      <td>0.2</td>\n",
       "      <td>setosa</td>\n",
       "    </tr>\n",
       "  </tbody>\n",
       "</table>\n",
       "</div>"
      ],
      "text/plain": [
       "   sepal_length  sepal_width  petal_length  petal_width species\n",
       "0           5.1          3.5           1.4          0.2  setosa\n",
       "1           4.9          3.0           1.4          0.2  setosa\n",
       "2           4.7          3.2           1.3          0.2  setosa\n",
       "3           4.6          3.1           1.5          0.2  setosa\n",
       "4           5.0          3.6           1.4          0.2  setosa"
      ]
     },
     "execution_count": 229,
     "metadata": {},
     "output_type": "execute_result"
    }
   ],
   "source": [
    "iris_data.head()"
   ]
  },
  {
   "cell_type": "code",
   "execution_count": 230,
   "id": "4624637c-07da-456e-ab01-bf674eb3617b",
   "metadata": {},
   "outputs": [
    {
     "data": {
      "text/plain": [
       "(150, 5)"
      ]
     },
     "execution_count": 230,
     "metadata": {},
     "output_type": "execute_result"
    }
   ],
   "source": [
    "iris_data.shape"
   ]
  },
  {
   "cell_type": "code",
   "execution_count": 231,
   "id": "13f8969b-9279-4665-a352-fcf8d01d9db7",
   "metadata": {},
   "outputs": [
    {
     "data": {
      "text/plain": [
       "array(['setosa', 'versicolor', 'virginica'], dtype=object)"
      ]
     },
     "execution_count": 231,
     "metadata": {},
     "output_type": "execute_result"
    }
   ],
   "source": [
    "iris_data['species'].unique()\n"
   ]
  },
  {
   "cell_type": "code",
   "execution_count": 232,
   "id": "18bbb5c6-1951-49fd-8ea2-943a69140545",
   "metadata": {
    "scrolled": true
   },
   "outputs": [
    {
     "data": {
      "text/plain": [
       "<Axes: xlabel='sepal_length', ylabel='sepal_width'>"
      ]
     },
     "execution_count": 232,
     "metadata": {},
     "output_type": "execute_result"
    },
    {
     "data": {
      "image/png": "[encoded data removed]",
      "text/plain": [
       "<Figure size 640x480 with 1 Axes>"
      ]
     },
     "metadata": {},
     "output_type": "display_data"
    }
   ],
   "source": [
    "sns.scatterplot(x='sepal_length',y='sepal_width', data=iris_data,hue='species')"
   ]
  },
  {
   "cell_type": "code",
   "execution_count": 233,
   "id": "c8c8d217-ae82-4ea3-997e-4dcfa50f6347",
   "metadata": {},
   "outputs": [],
   "source": [
    "iris = sns.load_dataset(\"iris\")"
   ]
  },
  {
   "cell_type": "code",
   "execution_count": 234,
   "id": "4b864de6-85fe-4feb-b649-1a7a21507097",
   "metadata": {},
   "outputs": [],
   "source": [
    "Mapping_Species = {\n",
    "    \"setosa\": 0,\n",
    "    \"versicolor\": 1,\n",
    "    \"virginica\": 2\n",
    "}\n",
    "iris_data[\"species\"] = iris_data[\"species\"].map(Mapping_Species)"
   ]
  },
  {
   "cell_type": "code",
   "execution_count": 235,
   "id": "1f949a7f-99c3-4cfc-a632-8f03e6609c52",
   "metadata": {},
   "outputs": [
    {
     "data": {
      "text/plain": [
       "array([0, 1, 2])"
      ]
     },
     "execution_count": 235,
     "metadata": {},
     "output_type": "execute_result"
    }
   ],
   "source": [
    "iris_data['species'].unique()"
   ]
  },
  {
   "cell_type": "code",
   "execution_count": null,
   "id": "2884e4d6-6f32-4abe-9a70-59d09086d152",
   "metadata": {},
   "outputs": [],
   "source": []
  }
 ],
 "metadata": {
  "kernelspec": {
   "display_name": "Python [conda env:bac3_gl_ia_env]",
   "language": "python",
   "name": "conda-env-bac3_gl_ia_env-py"
  },
  "language_info": {
   "codemirror_mode": {
    "name": "ipython",
    "version": 3
   },
   "file_extension": ".py",
   "mimetype": "text/x-python",
   "name": "python",
   "nbconvert_exporter": "python",
   "pygments_lexer": "ipython3",
   "version": "3.10.16"
  }
 },
 "nbformat": 4,
 "nbformat_minor": 5
}
